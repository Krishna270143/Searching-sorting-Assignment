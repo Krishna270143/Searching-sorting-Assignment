{
 "cells": [
  {
   "cell_type": "code",
   "execution_count": null,
   "id": "85cd0c10",
   "metadata": {},
   "outputs": [],
   "source": [
    "Implement Binary Search"
   ]
  },
  {
   "cell_type": "code",
   "execution_count": 18,
   "id": "fffae8a4",
   "metadata": {},
   "outputs": [
    {
     "name": "stdout",
     "output_type": "stream",
     "text": [
      "enter a value from the given arr:10\n",
      "Element is present at index 3\n"
     ]
    }
   ],
   "source": [
    "# Returns index of x in arr if present, else -1\n",
    "def binary_search(arr, low, high, x):\n",
    "\n",
    "# Check base case\n",
    "    if high >= low:\n",
    "\n",
    "        mid = (high + low) // 2\n",
    "\n",
    "# If element is present at the middle itself\n",
    "        if arr[mid] == x:\n",
    "            return mid\n",
    "\n",
    "# If element is smaller than mid, then it can only\n",
    "# be present in left subarray\n",
    "        elif arr[mid] > x:\n",
    "            return binary_search(arr, low, mid - 1, x)\n",
    "\n",
    "# Else the element can only be present in right subarray\n",
    "        else:\n",
    "            return binary_search(arr, mid + 1, high, x)\n",
    "\n",
    "    else:\n",
    "# Element is not present in the array\n",
    "        return -1\n",
    "\n",
    "# Test array\n",
    "arr = [ 2, 3, 4, 10, 40 ]\n",
    "x = int(input(\"enter a value from the given arr:\"))\n",
    "\n",
    "# Function call\n",
    "result = binary_search(arr, 0, len(arr)-1, x)\n",
    "\n",
    "if result != -1:\n",
    "    print(\"Element is present at index\", str(result))\n",
    "else:\n",
    "    print(\"Element is not present in array\")\n"
   ]
  },
  {
   "cell_type": "code",
   "execution_count": null,
   "id": "d24e26b5",
   "metadata": {},
   "outputs": [],
   "source": [
    "Implement Merge Sort"
   ]
  },
  {
   "cell_type": "code",
   "execution_count": 6,
   "id": "4498c082",
   "metadata": {},
   "outputs": [
    {
     "name": "stdout",
     "output_type": "stream",
     "text": [
      "Given array is\n",
      "12 11 15 5 1 6 7 \n",
      "\n",
      "Sorted array is\n",
      "1 5 6 7 11 12 15 "
     ]
    }
   ],
   "source": [
    "# Merges two subarrays of arr[].\n",
    "# First subarray is arr[l..m]\n",
    "# Second subarray is arr[m+1..r]\n",
    "\n",
    "\n",
    "def merge(arr, l, m, r):\n",
    "    n1 = m - l + 1\n",
    "    n2 = r - m\n",
    "\n",
    "# create temp arrays\n",
    "    L = [0] * (n1)\n",
    "    R = [0] * (n2)\n",
    "\n",
    "# Copy data to temp arrays L[] and R[]\n",
    "    for i in range(0, n1):\n",
    "        L[i] = arr[l + i]\n",
    "\n",
    "    for j in range(0, n2):\n",
    "        R[j] = arr[m + 1 + j]\n",
    "\n",
    "# Merge the temp arrays back into arr[l..r]\n",
    "    i = 0 # Initial index of first subarray\n",
    "    j = 0 # Initial index of second subarray\n",
    "    k = l # Initial index of merged subarray\n",
    "\n",
    "    while i < n1 and j < n2:\n",
    "        if L[i] <= R[j]:\n",
    "            arr[k] = L[i]\n",
    "            i += 1\n",
    "        else:\n",
    "            arr[k] = R[j]\n",
    "            j += 1\n",
    "        k += 1\n",
    "\n",
    "# Copy the remaining elements of L[], if there are any\n",
    "    while i < n1: \n",
    "        arr[k] = L[i]\n",
    "        i += 1\n",
    "        k += 1\n",
    "\n",
    "# Copy the remaining elements of R[], if there\n",
    "# are any\n",
    "    while j < n2:\n",
    "        arr[k] = R[j]\n",
    "        j += 1\n",
    "        k += 1\n",
    "\n",
    "# l is for left index and r is right index of the\n",
    "# sub-array of arr to be sorted\n",
    "\n",
    "\n",
    "def mergeSort(arr, l, r):\n",
    "    if l < r:\n",
    "\n",
    "# Same as (l+r)//2, but avoids overflow for large l and h\n",
    "        m = l+(r-l)//2\n",
    "\n",
    "# Sort first and second halves\n",
    "        mergeSort(arr, l, m)\n",
    "        mergeSort(arr, m+1, r)\n",
    "        merge(arr, l, m, r)\n",
    "\n",
    "arr = [12, 11, 15, 5, 1, 6, 7]\n",
    "n = len(arr)\n",
    "print(\"Given array is\")\n",
    "for i in range(n):\n",
    "    print(\"%d\" % arr[i],end=\" \")\n",
    "\n",
    "mergeSort(arr, 0, n-1)\n",
    "print(\"\\n\\nSorted array is\")\n",
    "for i in range(n):\n",
    "    print(\"%d\" % arr[i],end=\" \")\n"
   ]
  },
  {
   "cell_type": "code",
   "execution_count": null,
   "id": "5a2cba86",
   "metadata": {},
   "outputs": [],
   "source": [
    "Implement Quick Sort"
   ]
  },
  {
   "cell_type": "code",
   "execution_count": 10,
   "id": "735e3776",
   "metadata": {},
   "outputs": [
    {
     "name": "stdout",
     "output_type": "stream",
     "text": [
      "Sorted array is:\n",
      "1\n",
      "5\n",
      "7\n",
      "8\n",
      "9\n",
      "10\n"
     ]
    }
   ],
   "source": [
    "def partition(arr, low, high):\n",
    "    i = (low-1)  # index of smaller element\n",
    "    pivot = arr[high]  # pivot\n",
    "\n",
    "    for j in range(low, high):\n",
    "\n",
    "# If current element is smaller than or equal to pivot\n",
    "        if arr[j] <= pivot:\n",
    "\n",
    "# increment index of smaller element\n",
    "            i = i+1\n",
    "            arr[i], arr[j] = arr[j], arr[i]\n",
    "\n",
    "    arr[i+1], arr[high] = arr[high], arr[i+1]\n",
    "    return (i+1)\n",
    "\n",
    "# The main function that implements QuickSort\n",
    "# arr[] --> Array to be sorted,\n",
    "# low --> Starting index,\n",
    "# high --> Ending index\n",
    "\n",
    "# Function to do Quick sort\n",
    "\n",
    "\n",
    "def quickSort(arr, low, high):\n",
    "    if len(arr) == 1:\n",
    "        return arr\n",
    "    if low < high:\n",
    "\n",
    "# pi is partitioning index, arr[p] is now at right place\n",
    "        pi = partition(arr, low, high)\n",
    "\n",
    "# Separately sort elements before partition and after partition\n",
    "        quickSort(arr, low, pi-1)\n",
    "        quickSort(arr, pi+1, high)\n",
    "\n",
    "\n",
    "# Driver code to test above\n",
    "arr = [10, 7, 8, 9, 1, 5]\n",
    "n = len(arr)\n",
    "quickSort(arr, 0, n-1)\n",
    "print(\"Sorted array is:\")\n",
    "for i in range(n):\n",
    "    print(\"%d\" % arr[i])\n",
    "\n"
   ]
  },
  {
   "cell_type": "code",
   "execution_count": null,
   "id": "e840dc17",
   "metadata": {},
   "outputs": [],
   "source": [
    "implementation of Insertion Sort"
   ]
  },
  {
   "cell_type": "code",
   "execution_count": 12,
   "id": "e2c3ffde",
   "metadata": {},
   "outputs": [
    {
     "name": "stdout",
     "output_type": "stream",
     "text": [
      "Sorted Array in Ascending Order:\n",
      "[1, 3, 4, 5, 9]\n"
     ]
    }
   ],
   "source": [
    " def insertionSort(array):\n",
    "\n",
    "    for step in range(1, len(array)):\n",
    "        key = array[step]\n",
    "        j = step - 1\n",
    "        \n",
    "        # Compare key with each element on the left of it until an element smaller than it is found\n",
    "        # For descending order, change key<array[j] to key>array[j].        \n",
    "        while j >= 0 and key < array[j]:\n",
    "            array[j + 1] = array[j]\n",
    "            j = j - 1\n",
    "        \n",
    "        # Place key at after the element just smaller than it.\n",
    "        array[j + 1] = key\n",
    "\n",
    "\n",
    "data = [9, 5, 1, 4, 3]\n",
    "insertionSort(data)\n",
    "print('Sorted Array in Ascending Order:')\n",
    "print(data)"
   ]
  },
  {
   "cell_type": "code",
   "execution_count": null,
   "id": "dc09a5f3",
   "metadata": {},
   "outputs": [],
   "source": [
    "Write a program to sort list of strings (similar to that of dictionary)"
   ]
  },
  {
   "cell_type": "code",
   "execution_count": 17,
   "id": "67ebfc01",
   "metadata": {},
   "outputs": [
    {
     "name": "stdout",
     "output_type": "stream",
     "text": [
      "The list printed sorting by age: \n",
      "[{'name': 'Ramesh', 'age': 20}, {'name': 'Ajay', 'age': 24}, {'name': 'Suresh', 'age': 25}]\n",
      "\r\n",
      "The list printed sorting by age and name: \n",
      "[{'name': 'Ramesh', 'age': 20}, {'name': 'Ajay', 'age': 24}, {'name': 'Suresh', 'age': 25}]\n",
      "\r\n",
      "The list printed sorting by age in descending order: \n",
      "[{'name': 'Suresh', 'age': 25}, {'name': 'Ajay', 'age': 24}, {'name': 'Ramesh', 'age': 20}]\n"
     ]
    }
   ],
   "source": [
    "# Initializing list of dictionaries\n",
    "lis = [{ \"name\" : \"Ramesh\", \"age\" : 20},\n",
    "{ \"name\" : \"Suresh\", \"age\" : 25 },\n",
    "{ \"name\" : \"Ajay\" , \"age\" : 24 }]\n",
    "\n",
    "# using sorted and lambda to print list sorted\n",
    "# by age\n",
    "print (\"The list printed sorting by age: \")\n",
    "print (sorted(lis, key = lambda i: i['age']))\n",
    "\n",
    "print (\"\\r\")\n",
    "\n",
    "print (\"The list printed sorting by age and name: \")\n",
    "print (sorted(lis, key = lambda i: (i['age'], i['name'])))\n",
    "\n",
    "print (\"\\r\")\n",
    "\n",
    "# using sorted and lambda to print list sorted\n",
    "# by age in descending order\n",
    "print (\"The list printed sorting by age in descending order: \")\n",
    "print (sorted(lis, key = lambda i: i['age'],reverse=True))\n"
   ]
  },
  {
   "cell_type": "code",
   "execution_count": null,
   "id": "90c1a108",
   "metadata": {},
   "outputs": [],
   "source": []
  }
 ],
 "metadata": {
  "kernelspec": {
   "display_name": "Python 3 (ipykernel)",
   "language": "python",
   "name": "python3"
  },
  "language_info": {
   "codemirror_mode": {
    "name": "ipython",
    "version": 3
   },
   "file_extension": ".py",
   "mimetype": "text/x-python",
   "name": "python",
   "nbconvert_exporter": "python",
   "pygments_lexer": "ipython3",
   "version": "3.10.0"
  }
 },
 "nbformat": 4,
 "nbformat_minor": 5
}
